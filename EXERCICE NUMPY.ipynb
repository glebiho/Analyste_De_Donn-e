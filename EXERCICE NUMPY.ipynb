{
 "cells": [
  {
   "cell_type": "code",
   "execution_count": 2,
   "id": "cc2993a2",
   "metadata": {},
   "outputs": [
    {
     "data": {
      "text/plain": [
       "array([1, 5, 7, 8])"
      ]
     },
     "execution_count": 2,
     "metadata": {},
     "output_type": "execute_result"
    }
   ],
   "source": [
    "import numpy as np\n",
    "tableau1=np.array([ 1,5,7,8])\n",
    "tableau1"
   ]
  },
  {
   "cell_type": "code",
   "execution_count": 4,
   "id": "76bd5db4",
   "metadata": {},
   "outputs": [
    {
     "data": {
      "text/plain": [
       "array([1, 2, 3, 4, 5, 6, 7, 8, 9])"
      ]
     },
     "execution_count": 4,
     "metadata": {},
     "output_type": "execute_result"
    }
   ],
   "source": [
    "#tableau2=np.array([1,2,3,4,5,6,7,8,9])\n",
    "#tableau2\n",
    "tableau2=np.arange(1,10)\n",
    "tableau2"
   ]
  },
  {
   "cell_type": "code",
   "execution_count": 8,
   "id": "1826c943",
   "metadata": {},
   "outputs": [
    {
     "data": {
      "text/plain": [
       "array([0, 0, 0, 0, 0, 0, 0, 0, 0, 0])"
      ]
     },
     "execution_count": 8,
     "metadata": {},
     "output_type": "execute_result"
    }
   ],
   "source": [
    "## 3. Créer un tableau de 10 éléments rempli de 0\n",
    "table=np.zeros(10, dtype=\"int\")\n",
    "table\n",
    "#table=np.full(10,0)\n",
    "#table"
   ]
  },
  {
   "cell_type": "code",
   "execution_count": 9,
   "id": "f59f8109",
   "metadata": {},
   "outputs": [
    {
     "data": {
      "text/plain": [
       "array([[0., 0., 0., 0., 0.],\n",
       "       [0., 0., 0., 0., 0.]])"
      ]
     },
     "execution_count": 9,
     "metadata": {},
     "output_type": "execute_result"
    }
   ],
   "source": [
    "#4. Créer un tableau de 2 lignes 5 colonnes rempli de 0\n",
    "#table1=np.full((2,5),0)\n",
    "table1=np.zeros((2,5))\n",
    "table1"
   ]
  },
  {
   "cell_type": "code",
   "execution_count": 10,
   "id": "43b31070",
   "metadata": {},
   "outputs": [
    {
     "data": {
      "text/plain": [
       "array([1., 1., 1., 1., 1., 1., 1., 1., 1., 1.])"
      ]
     },
     "execution_count": 10,
     "metadata": {},
     "output_type": "execute_result"
    }
   ],
   "source": [
    "#5. Créer un tableau de 10 éléments rempli de 1\n",
    "table2=np.ones(10)\n",
    "table2"
   ]
  },
  {
   "cell_type": "code",
   "execution_count": 17,
   "id": "3afc1ee9",
   "metadata": {},
   "outputs": [
    {
     "data": {
      "text/plain": [
       "array([[1., 1., 1., 1., 1.],\n",
       "       [1., 1., 1., 1., 1.]])"
      ]
     },
     "execution_count": 17,
     "metadata": {},
     "output_type": "execute_result"
    }
   ],
   "source": [
    "#6. Créer un tableau de 2 lignes 5 colonnes rempli de 1\n",
    "table3=np.ones((2,5))\n",
    "table3"
   ]
  },
  {
   "cell_type": "code",
   "execution_count": 22,
   "id": "d7135371",
   "metadata": {},
   "outputs": [
    {
     "data": {
      "text/plain": [
       "array([[8.5, 8.5, 8.5, 8.5, 8.5, 8.5, 8.5, 8.5, 8.5, 8.5]])"
      ]
     },
     "execution_count": 22,
     "metadata": {},
     "output_type": "execute_result"
    }
   ],
   "source": [
    "#7. Créer un tableau de 10 éléments rempli 8.5\n",
    "table4=np.full((1,10),8.5)\n",
    "table4"
   ]
  },
  {
   "cell_type": "code",
   "execution_count": 38,
   "id": "df49b339",
   "metadata": {},
   "outputs": [
    {
     "data": {
      "text/plain": [
       "array([1, 2, 3, 4, 5, 6, 7, 8, 9])"
      ]
     },
     "execution_count": 38,
     "metadata": {},
     "output_type": "execute_result"
    }
   ],
   "source": [
    "#8. Créer un tableau de série d'entiers successifs allant de 1 à 9 inclus\n",
    "tableS=np.array(range(1,10))\n",
    "tableS"
   ]
  },
  {
   "cell_type": "code",
   "execution_count": 12,
   "id": "8e063de8",
   "metadata": {},
   "outputs": [
    {
     "data": {
      "text/plain": [
       "array([[1, 2, 3],\n",
       "       [4, 5, 6],\n",
       "       [7, 8, 9]])"
      ]
     },
     "execution_count": 12,
     "metadata": {},
     "output_type": "execute_result"
    }
   ],
   "source": [
    "#9. Créer un tableau de 3 lignes et 3 colonnes rempli de série d'entiers successifs allant de 1 à 9 inclus\n",
    "#tables1=np.array([[1,2,3],[4,5,6],[7,8,9]])\n",
    "tables1=np.arange(1,10).reshape(3,3)\n",
    "tables1\n"
   ]
  },
  {
   "cell_type": "code",
   "execution_count": 15,
   "id": "d59ce59f",
   "metadata": {},
   "outputs": [
    {
     "data": {
      "text/plain": [
       "array([[1., 0., 0., 0.],\n",
       "       [0., 1., 0., 0.],\n",
       "       [0., 0., 1., 0.],\n",
       "       [0., 0., 0., 1.]])"
      ]
     },
     "execution_count": 15,
     "metadata": {},
     "output_type": "execute_result"
    }
   ],
   "source": [
    "#10.Créer une matrice identité de 4 lignes 4 colonnes\n",
    "matricei =np.identity(4)\n",
    "matricei"
   ]
  },
  {
   "cell_type": "code",
   "execution_count": 26,
   "id": "6abd898d",
   "metadata": {},
   "outputs": [
    {
     "data": {
      "text/plain": [
       "array([-5. , -2.5,  0. ,  2.5,  5. ])"
      ]
     },
     "execution_count": 26,
     "metadata": {},
     "output_type": "execute_result"
    }
   ],
   "source": [
    "#11. Tableau rempli de valeurs aléatoires normales centrées en zéro\n",
    "tableB=np.linspace(-5,5,5)\n",
    "tableB"
   ]
  },
  {
   "cell_type": "code",
   "execution_count": 33,
   "id": "da8652dd",
   "metadata": {},
   "outputs": [
    {
     "data": {
      "text/plain": [
       "array([7, 5, 3, 9, 7, 6, 4, 9, 5, 2, 6, 9, 3, 6, 7, 2, 8, 4, 6, 4])"
      ]
     },
     "execution_count": 33,
     "metadata": {},
     "output_type": "execute_result"
    }
   ],
   "source": [
    "#12.Créer un tableau rempli de 20 valeurs aléatoires entières comprises entre 1 et\n",
    "10\n",
    "tableauA=np.random.randint(2,10,size=20)\n",
    "tableauA"
   ]
  },
  {
   "cell_type": "code",
   "execution_count": 34,
   "id": "1ce6d664",
   "metadata": {},
   "outputs": [
    {
     "data": {
      "text/plain": [
       "array([[7, 5, 3, 9, 7],\n",
       "       [6, 4, 9, 5, 2],\n",
       "       [6, 9, 3, 6, 7],\n",
       "       [2, 8, 4, 6, 4]])"
      ]
     },
     "execution_count": 34,
     "metadata": {},
     "output_type": "execute_result"
    }
   ],
   "source": [
    "#13.Transformer le tableau précédent en matrice de 4 lignes et 5 colonnes\n",
    "matrice=tableauA.reshape((4,5))\n",
    "matrice"
   ]
  },
  {
   "cell_type": "code",
   "execution_count": 22,
   "id": "b3288577",
   "metadata": {},
   "outputs": [
    {
     "data": {
      "text/plain": [
       "array([0.  , 0.25, 0.5 , 0.75, 1.  ])"
      ]
     },
     "execution_count": 22,
     "metadata": {},
     "output_type": "execute_result"
    }
   ],
   "source": [
    "#14.Créer un tableau de 5 éléments compris entre 0 et 1 avec une amplitude égale\n",
    "tab=np.linspace(0,1,5)\n",
    "tab"
   ]
  },
  {
   "cell_type": "code",
   "execution_count": 82,
   "id": "68304086",
   "metadata": {},
   "outputs": [
    {
     "data": {
      "text/plain": [
       "dtype('float64')"
      ]
     },
     "execution_count": 82,
     "metadata": {},
     "output_type": "execute_result"
    }
   ],
   "source": [
    "type =tab.dtype\n",
    "type"
   ]
  },
  {
   "cell_type": "markdown",
   "id": "bf60647a",
   "metadata": {},
   "source": [
    "EXERCICE2"
   ]
  },
  {
   "cell_type": "code",
   "execution_count": 71,
   "id": "5a32a940",
   "metadata": {},
   "outputs": [
    {
     "data": {
      "text/plain": [
       "(3, 3)"
      ]
     },
     "execution_count": 71,
     "metadata": {},
     "output_type": "execute_result"
    }
   ],
   "source": [
    "#1. Afficher le nombre de lignes et de colonnes\n",
    "a = np.array([[1,2,3],[4,5,6],[7,8,9]])\n",
    "a.shape"
   ]
  },
  {
   "cell_type": "code",
   "execution_count": 70,
   "id": "0384a8fc",
   "metadata": {},
   "outputs": [
    {
     "data": {
      "text/plain": [
       "2"
      ]
     },
     "execution_count": 70,
     "metadata": {},
     "output_type": "execute_result"
    }
   ],
   "source": [
    "#2. Afficher la dimension de mon tableau\n",
    "a.ndim"
   ]
  },
  {
   "cell_type": "code",
   "execution_count": 69,
   "id": "9c3e5eee",
   "metadata": {},
   "outputs": [
    {
     "data": {
      "text/plain": [
       "9"
      ]
     },
     "execution_count": 69,
     "metadata": {},
     "output_type": "execute_result"
    }
   ],
   "source": [
    "#3. Afficher le nombre d'élément de mon tableau\n",
    "a.size"
   ]
  },
  {
   "cell_type": "code",
   "execution_count": 72,
   "id": "f9c14947",
   "metadata": {},
   "outputs": [
    {
     "data": {
      "text/plain": [
       "dtype('int32')"
      ]
     },
     "execution_count": 72,
     "metadata": {},
     "output_type": "execute_result"
    }
   ],
   "source": [
    "#4. Afficher le type des éléments du tableau\n",
    "a.dtype"
   ]
  },
  {
   "cell_type": "markdown",
   "id": "733a928a",
   "metadata": {},
   "source": [
    "EXERCICE3"
   ]
  },
  {
   "cell_type": "code",
   "execution_count": 94,
   "id": "e0dc938d",
   "metadata": {},
   "outputs": [
    {
     "name": "stdout",
     "output_type": "stream",
     "text": [
      "5\n"
     ]
    }
   ],
   "source": [
    "#1. afficher la valeur 5 qui est dans le tableau\n",
    "b = np.array([[1,2,3],[4,5,6],[7,8,9]])\n",
    "print(b[1,1])"
   ]
  },
  {
   "cell_type": "code",
   "execution_count": 95,
   "id": "8deddbab",
   "metadata": {},
   "outputs": [
    {
     "data": {
      "text/plain": [
       "array([[1, 2, 3],\n",
       "       [4, 0, 6],\n",
       "       [7, 8, 9]])"
      ]
     },
     "execution_count": 95,
     "metadata": {},
     "output_type": "execute_result"
    }
   ],
   "source": [
    "#2. Remplacer le 5 qui est dans le tableau par 0\n",
    "b = np.array([[1,2,3],[4,5,6],[7,8,9]])\n",
    "b[b ==5 ] = 0\n",
    "b"
   ]
  },
  {
   "cell_type": "code",
   "execution_count": 96,
   "id": "cf5aaca7",
   "metadata": {},
   "outputs": [
    {
     "name": "stdout",
     "output_type": "stream",
     "text": [
      "3\n",
      "6\n",
      "9\n"
     ]
    }
   ],
   "source": [
    "#3. afficher les chiffres 3, 6 et 9 du tableau\n",
    "print(b[0,2])\n",
    "print(b[1,2])\n",
    "print(b[2,2])"
   ]
  },
  {
   "cell_type": "code",
   "execution_count": 104,
   "id": "680a5111",
   "metadata": {},
   "outputs": [
    {
     "data": {
      "text/plain": [
       "array([[6, 6, 8],\n",
       "       [4, 8, 1],\n",
       "       [6, 8, 7],\n",
       "       [2, 0, 2]])"
      ]
     },
     "execution_count": 104,
     "metadata": {},
     "output_type": "execute_result"
    }
   ],
   "source": [
    "#4. créer un tableau de 4 lignes et 3 colonnes rempli de 12 nombres entiersaléatoires compris entre 0 et 9\n",
    "import random\n",
    "F= np.random.randint(9,size = (4,3))\n",
    "F\n"
   ]
  },
  {
   "cell_type": "code",
   "execution_count": 109,
   "id": "fb26aba1",
   "metadata": {},
   "outputs": [
    {
     "data": {
      "text/plain": [
       "dtype('int32')"
      ]
     },
     "execution_count": 109,
     "metadata": {},
     "output_type": "execute_result"
    }
   ],
   "source": [
    "type=F.dtype\n",
    "type"
   ]
  },
  {
   "cell_type": "code",
   "execution_count": 110,
   "id": "0c5ce1ce",
   "metadata": {},
   "outputs": [
    {
     "name": "stdout",
     "output_type": "stream",
     "text": [
      "[[False False False]\n",
      " [ True False  True]\n",
      " [False False False]\n",
      " [ True  True  True]]\n"
     ]
    }
   ],
   "source": [
    "#5. Vérifier qu’il y a des nombres inférieur à 5\n",
    "print(F<5)\n"
   ]
  },
  {
   "cell_type": "code",
   "execution_count": 111,
   "id": "a7bfab92",
   "metadata": {
    "scrolled": true
   },
   "outputs": [
    {
     "data": {
      "text/plain": [
       "array([[6, 6, 8],\n",
       "       [0, 8, 0],\n",
       "       [6, 8, 7],\n",
       "       [0, 0, 0]])"
      ]
     },
     "execution_count": 111,
     "metadata": {},
     "output_type": "execute_result"
    }
   ],
   "source": [
    "#6. Remplacer les nombres inférieurs à 5 par 0\n",
    "F[F<5]=0\n",
    "F"
   ]
  },
  {
   "cell_type": "markdown",
   "id": "bf4b5ba7",
   "metadata": {},
   "source": [
    "EXERCICE4"
   ]
  },
  {
   "cell_type": "code",
   "execution_count": 133,
   "id": "ec56b3eb",
   "metadata": {
    "scrolled": true
   },
   "outputs": [
    {
     "data": {
      "text/plain": [
       "array([[4, 1, 8],\n",
       "       [6, 2, 6],\n",
       "       [7, 5, 1],\n",
       "       [8, 1, 5]])"
      ]
     },
     "execution_count": 133,
     "metadata": {},
     "output_type": "execute_result"
    }
   ],
   "source": [
    "#1. Créer un tableau de 4 lignes et 3 colonnes rempli de 11 nombres entiersaléatoires compris entre 0 et 9\n",
    "T=np.random.randint(9,size=(4,3))\n",
    "T\n",
    "\n"
   ]
  },
  {
   "cell_type": "code",
   "execution_count": 134,
   "id": "2f02652c",
   "metadata": {},
   "outputs": [
    {
     "data": {
      "text/plain": [
       "dtype('int32')"
      ]
     },
     "execution_count": 134,
     "metadata": {},
     "output_type": "execute_result"
    }
   ],
   "source": [
    "#2. Quel est le type des éléments du tableau ?\n",
    "type=T.dtype\n",
    "type"
   ]
  },
  {
   "cell_type": "code",
   "execution_count": 135,
   "id": "76a91501",
   "metadata": {},
   "outputs": [
    {
     "data": {
      "text/plain": [
       "array([[6., 8., 0., 5.],\n",
       "       [3., 1., 0., 9.],\n",
       "       [9., 6., 2., 5.]])"
      ]
     },
     "execution_count": 135,
     "metadata": {},
     "output_type": "execute_result"
    }
   ],
   "source": [
    "#3. Changer de type des éléments du tableau en float32\n",
    "T=np.floor(10*np.random.random((3,4)))\n",
    "T"
   ]
  },
  {
   "cell_type": "code",
   "execution_count": 136,
   "id": "9468e0b3",
   "metadata": {},
   "outputs": [
    {
     "data": {
      "text/plain": [
       "2"
      ]
     },
     "execution_count": 136,
     "metadata": {},
     "output_type": "execute_result"
    }
   ],
   "source": [
    "T.ndim"
   ]
  },
  {
   "cell_type": "code",
   "execution_count": 137,
   "id": "3ce98279",
   "metadata": {},
   "outputs": [
    {
     "data": {
      "text/plain": [
       "dtype('float64')"
      ]
     },
     "execution_count": 137,
     "metadata": {},
     "output_type": "execute_result"
    }
   ],
   "source": [
    "type=T.dtype\n",
    "type"
   ]
  },
  {
   "cell_type": "code",
   "execution_count": 139,
   "id": "52f158c7",
   "metadata": {},
   "outputs": [
    {
     "ename": "NameError",
     "evalue": "name 'reduce' is not defined",
     "output_type": "error",
     "traceback": [
      "\u001b[1;31m---------------------------------------------------------------------------\u001b[0m",
      "\u001b[1;31mNameError\u001b[0m                                 Traceback (most recent call last)",
      "Input \u001b[1;32mIn [139]\u001b[0m, in \u001b[0;36m<cell line: 3>\u001b[1;34m()\u001b[0m\n\u001b[0;32m      1\u001b[0m \u001b[38;5;66;03m#4. Ajouter le chiffre 3 à la fin du tableau à une dimension\u001b[39;00m\n\u001b[0;32m      2\u001b[0m T\u001b[38;5;241m=\u001b[39mnp\u001b[38;5;241m.\u001b[39mfloor(\u001b[38;5;241m10\u001b[39m\u001b[38;5;241m*\u001b[39mnp\u001b[38;5;241m.\u001b[39mrandom\u001b[38;5;241m.\u001b[39mrandom((\u001b[38;5;241m3\u001b[39m,\u001b[38;5;241m4\u001b[39m)))\n\u001b[1;32m----> 3\u001b[0m d1 \u001b[38;5;241m=\u001b[39m \u001b[43mreduce\u001b[49m(\u001b[38;5;28;01mlambda\u001b[39;00m a,b:a\u001b[38;5;241m+\u001b[39mb,T)\n\u001b[0;32m      4\u001b[0m d1\n",
      "\u001b[1;31mNameError\u001b[0m: name 'reduce' is not defined"
     ]
    }
   ],
   "source": [
    "#4. Ajouter le chiffre 3 à la fin du tableau à une dimension\n",
    "T=np.floor(10*np.random.random((3,4)))\n",
    "d1 = reduce(lambda a,b:a+b,T)\n",
    "d1\n"
   ]
  }
 ],
 "metadata": {
  "kernelspec": {
   "display_name": "Python 3 (ipykernel)",
   "language": "python",
   "name": "python3"
  },
  "language_info": {
   "codemirror_mode": {
    "name": "ipython",
    "version": 3
   },
   "file_extension": ".py",
   "mimetype": "text/x-python",
   "name": "python",
   "nbconvert_exporter": "python",
   "pygments_lexer": "ipython3",
   "version": "3.9.7"
  }
 },
 "nbformat": 4,
 "nbformat_minor": 5
}
