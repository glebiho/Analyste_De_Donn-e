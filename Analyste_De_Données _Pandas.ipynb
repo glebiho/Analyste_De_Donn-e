{
 "cells": [
  {
   "cell_type": "code",
   "execution_count": 19,
   "id": "5700a434",
   "metadata": {},
   "outputs": [],
   "source": [
    "import numpy as np\n",
    "import pandas as pd"
   ]
  },
  {
   "cell_type": "code",
   "execution_count": 20,
   "id": "a8c10149",
   "metadata": {},
   "outputs": [
    {
     "data": {
      "text/plain": [
       "0     a\n",
       "1     b\n",
       "2     c\n",
       "3     d\n",
       "4     e\n",
       "5     f\n",
       "6     g\n",
       "7     h\n",
       "8     i\n",
       "9     j\n",
       "10    k\n",
       "11    l\n",
       "12    m\n",
       "13    n\n",
       "14    o\n",
       "15    p\n",
       "16    q\n",
       "17    r\n",
       "18    s\n",
       "19    t\n",
       "20    u\n",
       "21    v\n",
       "22    w\n",
       "23    x\n",
       "24    y\n",
       "25    z\n",
       "dtype: object"
      ]
     },
     "execution_count": 20,
     "metadata": {},
     "output_type": "execute_result"
    }
   ],
   "source": [
    "#créer une série pandas\n",
    "Igs_1=pd.Series(list('abcdefghijklmnopqrstuvwxyz'))\n",
    "Igs_1"
   ]
  },
  {
   "cell_type": "code",
   "execution_count": 21,
   "id": "ad9d4a28",
   "metadata": {},
   "outputs": [
    {
     "data": {
      "text/plain": [
       "array([41, 89, 97, 97, 56, 87, 74, 11,  4, 75, 35, 91, 28, 69, 68, 38, 32,\n",
       "       26,  1, 45, 48,  3, 92, 75, 36, 33])"
      ]
     },
     "execution_count": 21,
     "metadata": {},
     "output_type": "execute_result"
    }
   ],
   "source": [
    "Igs_2=np.random.randint(0,100,26)\n",
    "Igs_2"
   ]
  },
  {
   "cell_type": "code",
   "execution_count": 41,
   "id": "736ddf43",
   "metadata": {},
   "outputs": [
    {
     "name": "stdout",
     "output_type": "stream",
     "text": [
      "{'a': 41, 'b': 89, 'c': 97, 'd': 97, 'e': 56, 'f': 87, 'g': 74, 'h': 11, 'i': 4, 'j': 75, 'k': 35, 'l': 91, 'm': 28, 'n': 69, 'o': 68, 'p': 38, 'q': 32, 'r': 26, 's': 1, 't': 45, 'u': 48, 'v': 3, 'w': 92, 'x': 75, 'y': 36, 'z': 33}\n"
     ]
    }
   ],
   "source": [
    "Igs_3=dict(zip(Igs_1,Igs_2))\n",
    "print(Igs_3)"
   ]
  },
  {
   "cell_type": "code",
   "execution_count": 46,
   "id": "3634add3",
   "metadata": {},
   "outputs": [
    {
     "ename": "AttributeError",
     "evalue": "'str' object has no attribute 'to_frame'",
     "output_type": "error",
     "traceback": [
      "\u001b[1;31m---------------------------------------------------------------------------\u001b[0m",
      "\u001b[1;31mAttributeError\u001b[0m                            Traceback (most recent call last)",
      "\u001b[1;32m~\\AppData\\Local\\Temp/ipykernel_8704/3823040405.py\u001b[0m in \u001b[0;36m<module>\u001b[1;34m\u001b[0m\n\u001b[0;32m      1\u001b[0m \u001b[0mIgs\u001b[0m\u001b[1;33m=\u001b[0m\u001b[1;34m\"df\"\u001b[0m\u001b[1;33m\u001b[0m\u001b[1;33m\u001b[0m\u001b[0m\n\u001b[1;32m----> 2\u001b[1;33m \u001b[0mdf\u001b[0m\u001b[1;33m=\u001b[0m\u001b[0mIgs\u001b[0m\u001b[1;33m.\u001b[0m\u001b[0mto_frame\u001b[0m\u001b[1;33m(\u001b[0m\u001b[1;33m)\u001b[0m\u001b[1;33m.\u001b[0m\u001b[0mreset_index\u001b[0m\u001b[1;33m(\u001b[0m\u001b[1;33m)\u001b[0m\u001b[1;33m\u001b[0m\u001b[1;33m\u001b[0m\u001b[0m\n\u001b[0m",
      "\u001b[1;31mAttributeError\u001b[0m: 'str' object has no attribute 'to_frame'"
     ]
    }
   ],
   "source": [
    "Igs=\"df\"\n",
    "df=Igs.to_frame().reset_index()"
   ]
  },
  {
   "cell_type": "code",
   "execution_count": null,
   "id": "aee57882",
   "metadata": {},
   "outputs": [],
   "source": []
  }
 ],
 "metadata": {
  "kernelspec": {
   "display_name": "Python 3 (ipykernel)",
   "language": "python",
   "name": "python3"
  },
  "language_info": {
   "codemirror_mode": {
    "name": "ipython",
    "version": 3
   },
   "file_extension": ".py",
   "mimetype": "text/x-python",
   "name": "python",
   "nbconvert_exporter": "python",
   "pygments_lexer": "ipython3",
   "version": "3.9.7"
  }
 },
 "nbformat": 4,
 "nbformat_minor": 5
}
