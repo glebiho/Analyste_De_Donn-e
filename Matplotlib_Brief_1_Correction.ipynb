{
 "cells": [
  {
   "cell_type": "code",
   "execution_count": 3,
   "metadata": {
    "id": "zAp-a4fFgMd2"
   },
   "outputs": [],
   "source": [
    "import matplotlib.pyplot as plt\n",
    "import numpy as np\n",
    "import pandas as pd\n",
    "import os "
   ]
  },
  {
   "cell_type": "code",
   "execution_count": 4,
   "metadata": {},
   "outputs": [
    {
     "data": {
      "text/plain": [
       "'C:\\\\Users\\\\lenovo\\\\Desktop\\\\DATA'"
      ]
     },
     "execution_count": 4,
     "metadata": {},
     "output_type": "execute_result"
    }
   ],
   "source": [
    "pwd"
   ]
  },
  {
   "cell_type": "code",
   "execution_count": 6,
   "metadata": {
    "id": "BZOiuXO6gMd-"
   },
   "outputs": [],
   "source": [
    "os.chdir('C:\\\\Users\\\\lenovo\\\\Desktop\\\\DATA')"
   ]
  },
  {
   "cell_type": "code",
   "execution_count": null,
   "metadata": {
    "id": "tHEZMw6chv1k",
    "outputId": "512397d7-1164-41e1-8ee8-319f771cff28"
   },
   "outputs": [],
   "source": [
    "np.linspace(1,9,5)\n",
    "#1-3 = -2\n",
    "#3-5 = -2\n",
    "#5-7 = -2\n",
    "#7-9 = -2"
   ]
  },
  {
   "cell_type": "code",
   "execution_count": null,
   "metadata": {
    "id": "K_j0mCRJgMd6",
    "outputId": "77b19f1e-cf8f-4622-9658-f43c22a7defa"
   },
   "outputs": [],
   "source": [
    "x = np.linspace(0, 2, 10)\n",
    "y = x**2\n",
    "z = x**3"
   ]
  },
  {
   "cell_type": "code",
   "execution_count": null,
   "metadata": {
    "id": "VfkSp77zgMd7",
    "outputId": "cb11184e-5730-478d-9400-501f5fe0b505"
   },
   "outputs": [],
   "source": [
    "#Pour construire une courbe avec X en abscisse et y en ordonnée\n",
    "#plt.plot(x,y)"
   ]
  },
  {
   "cell_type": "code",
   "execution_count": null,
   "metadata": {
    "id": "-PmdmPD9gMd8",
    "outputId": "b26de075-3fdd-48e4-e1f7-f4628ceab8ae",
    "scrolled": true
   },
   "outputs": [],
   "source": [
    "#Changer l'épaisseur et la couleur de la ligne du graphique précédemment créé avec le paramètre \"c\" et \"lw\"\n",
    "#plt.plot(x, y, c ='green', lw=6)"
   ]
  },
  {
   "cell_type": "code",
   "execution_count": null,
   "metadata": {
    "id": "mUri5BRmgMd9",
    "outputId": "8af5b6c9-3c29-48aa-8d32-5d597241a574",
    "scrolled": true
   },
   "outputs": [],
   "source": [
    "#plt.plot(x, y, c ='red', lw=3, ls='--')"
   ]
  },
  {
   "cell_type": "code",
   "execution_count": null,
   "metadata": {
    "id": "7k7I8NkOgMd9",
    "outputId": "f6d020f2-cc47-4169-c720-15eb399e6afa"
   },
   "outputs": [],
   "source": [
    "#Construire sur le même graphique deux courbes\n",
    "#plt.figure()\n",
    "#plt.plot(x, y, label='x**3')\n",
    "#plt.plot(x, x**2, label = 'x**2')\n",
    "#plt.title('Graphique 1')\n",
    "#plt.xlabel('x')\n",
    "#plt.ylabel('y')\n",
    "#plt.legend()\n",
    "#plt.savefig('figure1.png')"
   ]
  },
  {
   "cell_type": "code",
   "execution_count": null,
   "metadata": {
    "id": "hBj46WHYhv1p",
    "outputId": "8330cab6-f2f4-4905-fed3-8977a5f3898d"
   },
   "outputs": [],
   "source": [
    "#Afficher à travers un boxplot la distribution de x\n",
    "#plt.figure\n",
    "#plt.boxplot(x, c ='red')\n",
    "#ajouter un titre au boxplot\n",
    "#plt.title('Ditribution de la variable x')\n",
    "#plt.xlabel('x')"
   ]
  },
  {
   "cell_type": "code",
   "execution_count": null,
   "metadata": {
    "id": "vJBVjf3pgMd7",
    "outputId": "630880be-f8e9-4a1c-b6a9-c4f0f7e4a092"
   },
   "outputs": [],
   "source": [
    "#Pour construire un nuage de points\n",
    "#plt.scatter(x,z)"
   ]
  },
  {
   "cell_type": "code",
   "execution_count": null,
   "metadata": {
    "id": "EtmkSIjrgMd8",
    "outputId": "1f5064ff-37d9-4ece-865f-1ede97ff648e"
   },
   "outputs": [],
   "source": [
    "#Changer la couleur du graphique\n",
    "#plt.scatter(x, z, c = 'red')"
   ]
  },
  {
   "cell_type": "code",
   "execution_count": null,
   "metadata": {
    "id": "e2GD7u61hv1t"
   },
   "outputs": [],
   "source": [
    "#labels = ['G1', 'G2', 'G3', 'G4', 'G5']\n",
    "#men_means = [20, 34, 30, 35, 27]\n",
    "#women_means = [25, 32, 34, 20, 25]\n",
    "#w = 0.25"
   ]
  },
  {
   "cell_type": "code",
   "execution_count": null,
   "metadata": {
    "id": "ROBoleGehv1t"
   },
   "outputs": [],
   "source": [
    "#plt.figure()\n",
    "#plt.bar(labels, men_means, w, label = \"Men\")\n",
    "#plt.xlabel('Labels')\n",
    "#plt.ylabel('Effectif')\n",
    "#plt.title(\"Men vs Women\")\n",
    "#plt.legend()"
   ]
  },
  {
   "cell_type": "code",
   "execution_count": null,
   "metadata": {
    "id": "ueBSElfRhv1u",
    "outputId": "3a10dbed-d25a-41b9-8db7-e6f69b7a4845"
   },
   "outputs": [],
   "source": [
    "#plt.figure()\n",
    "#plt.bar(labels, men_means, w, label = \"Men\")\n",
    "#plt.bar(labels, women_means, w, bottom=men_means, label = \"Women\")\n",
    "#plt.xlabel('Labels')\n",
    "#plt.ylabel('Effectif')\n",
    "#plt.title(\"Men vs Women\")\n",
    "#plt.legend()"
   ]
  },
  {
   "cell_type": "code",
   "execution_count": null,
   "metadata": {
    "id": "CmZ5WVAbhv1v",
    "outputId": "3456f5d4-2ef9-438c-bffa-48e62195821f"
   },
   "outputs": [],
   "source": [
    "#w = 0.4\n",
    "#index_1 = np.arange(len(labels))\n",
    "#print(index_1,'\\n')\n",
    "#index_2 = [i+w for i in range(len(labels))]\n",
    "#print(index_2)"
   ]
  },
  {
   "cell_type": "code",
   "execution_count": null,
   "metadata": {
    "id": "VO7T0Nr9hv1v",
    "outputId": "af2dcce1-22bf-4c82-a29f-657f2dcf69ba"
   },
   "outputs": [],
   "source": [
    "#w = 0.4\n",
    "#index_1 = np.arange(len(labels))\n",
    "#index_2 = [i+w for i in range(len(labels))]\n",
    "#plt.figure()\n",
    "#plt.bar(index_1, men_means, w, label = \"Men\")\n",
    "#plt.legend()"
   ]
  },
  {
   "cell_type": "code",
   "execution_count": null,
   "metadata": {
    "id": "7bZaJa3khv1w",
    "outputId": "b71ccf09-ee1b-4f76-9f73-59d7fb0c5f07"
   },
   "outputs": [],
   "source": [
    "#w = 0.4\n",
    "#index_1 = np.arange(len(labels))\n",
    "#index_2 = [i+w for i in range(len(labels))]\n",
    "#plt.figure()\n",
    "#plt.bar(index_1, men_means, w, label = \"Men\")\n",
    "#plt.bar(index_2, women_means, w, label = \"Women\")\n",
    "#plt.legend()"
   ]
  },
  {
   "cell_type": "code",
   "execution_count": null,
   "metadata": {
    "id": "WhvNvvqDhv1x",
    "outputId": "ae7b5ff7-728a-4a20-b77f-3e698dc6c671"
   },
   "outputs": [],
   "source": [
    "#w = 0.4\n",
    "#index_1 = np.arange(len(labels))\n",
    "#index_2 = [i+w for i in range(len(labels))]\n",
    "#plt.figure()\n",
    "#plt.bar(index_1, men_means, w, label = \"Men\")\n",
    "#plt.bar(index_2, women_means, w, label = \"Women\")\n",
    "#plt.xticks(index_1+w/2)\n",
    "#plt.legend()"
   ]
  },
  {
   "cell_type": "code",
   "execution_count": null,
   "metadata": {
    "id": "gQ9T9Ljqhv1x",
    "outputId": "c11a06a7-a920-4799-bcef-ff58484cdf88"
   },
   "outputs": [],
   "source": [
    "#w = 0.4\n",
    "#index_1 = np.arange(len(labels))\n",
    "#index_2 = [i+w for i in range(len(labels))]\n",
    "#plt.figure()\n",
    "#plt.bar(index_1, men_means, w, label = \"Men\")\n",
    "#plt.bar(index_2, women_means, w, label = \"Women\")\n",
    "#plt.xticks(index_1+w/2, labels)\n",
    "#plt.legend()"
   ]
  },
  {
   "cell_type": "code",
   "execution_count": null,
   "metadata": {
    "id": "VIc16VAKhv1y"
   },
   "outputs": [],
   "source": [
    "#data = pd.read_excel('Coeur.xlsx')"
   ]
  },
  {
   "cell_type": "code",
   "execution_count": null,
   "metadata": {
    "id": "mnP-nvaXhv1z",
    "outputId": "916f2838-f93c-40f6-e65d-d8bf58153a22"
   },
   "outputs": [],
   "source": [
    "#data.head()"
   ]
  },
  {
   "cell_type": "code",
   "execution_count": null,
   "metadata": {
    "id": "sR9NGziwhv1z"
   },
   "outputs": [],
   "source": [
    "#df = data.copy()"
   ]
  },
  {
   "cell_type": "code",
   "execution_count": null,
   "metadata": {
    "id": "TLWnHMixhv1z",
    "outputId": "0280c382-5f09-4a5d-ab66-9c05a3ac904d"
   },
   "outputs": [],
   "source": [
    "#type(df['AGE'])"
   ]
  },
  {
   "cell_type": "code",
   "execution_count": 3,
   "metadata": {
    "id": "6zE2e5brhv10",
    "outputId": "e1c64d03-804d-4e7b-8bc6-90038afcc506"
   },
   "outputs": [],
   "source": [
    "#type(x)"
   ]
  },
  {
   "cell_type": "code",
   "execution_count": 4,
   "metadata": {
    "id": "-TwS8SSnhv10",
    "outputId": "800f2175-182b-467d-ef2c-308460f13559"
   },
   "outputs": [],
   "source": [
    "#plt.figure\n",
    "#plt.boxplot(df['AGE'])\n",
    "#plt.title('Ditribution de la variable Age')\n",
    "#plt.xlabel('Age')"
   ]
  },
  {
   "cell_type": "code",
   "execution_count": 5,
   "metadata": {
    "id": "8hOESS6Fhv11",
    "outputId": "a45d9057-1107-462c-9cd1-a3482330f0b8"
   },
   "outputs": [],
   "source": [
    "#plt.figure()\n",
    "#df.boxplot('AGE')\n",
    "#plt.title('Ditribution de la variable Age')\n",
    "#plt.xlabel('Age')"
   ]
  },
  {
   "cell_type": "code",
   "execution_count": 6,
   "metadata": {
    "id": "RxVPAKqZhv11",
    "outputId": "87d688df-d746-44a1-8d86-712309c7d7fc"
   },
   "outputs": [],
   "source": [
    "#plt.figure()\n",
    "#df.boxplot('AGE', by='CŒUR')"
   ]
  },
  {
   "cell_type": "code",
   "execution_count": 7,
   "metadata": {
    "id": "BXX61XFRhv12",
    "outputId": "c50c42be-6ef8-4226-bdba-283d688f4f55"
   },
   "outputs": [],
   "source": [
    "#plt.figure()\n",
    "#plt.hist(df['AGE'])"
   ]
  },
  {
   "cell_type": "code",
   "execution_count": 8,
   "metadata": {
    "id": "DIl260ryhv12",
    "outputId": "73fb9d34-e6c3-4431-b307-9cc2abda7145"
   },
   "outputs": [],
   "source": [
    "#plt.figure()\n",
    "#df.boxplot('AGE', by='SEXE')"
   ]
  },
  {
   "cell_type": "code",
   "execution_count": 9,
   "metadata": {
    "id": "KKvXyqZZhv12",
    "outputId": "4baa03df-8780-4560-ca50-969d043a7c84"
   },
   "outputs": [],
   "source": [
    "#plt.figure()\n",
    "#df['AGE'].plot.kde()"
   ]
  },
  {
   "cell_type": "code",
   "execution_count": 10,
   "metadata": {
    "id": "9j3S_W0ehv13",
    "outputId": "bd6ab0d1-a476-427f-a569-318d5d09defa"
   },
   "outputs": [],
   "source": [
    "#plt.figure()\n",
    "#plt.pie(df['ANGINE'].value_counts())"
   ]
  },
  {
   "cell_type": "code",
   "execution_count": 11,
   "metadata": {
    "id": "lrQomxkEhv13",
    "outputId": "c1e78750-e255-43ac-edda-f572564944ea"
   },
   "outputs": [],
   "source": [
    "#df['ANGINE'].value_counts()"
   ]
  },
  {
   "cell_type": "code",
   "execution_count": 12,
   "metadata": {
    "id": "3jWB1biNhv13",
    "outputId": "c397274f-1eb6-412c-b027-bbc7b141e66e"
   },
   "outputs": [],
   "source": [
    "#plt.figure()\n",
    "#df['ANGINE'].value_counts().plot.pie()"
   ]
  },
  {
   "cell_type": "code",
   "execution_count": 13,
   "metadata": {
    "id": "yqm_tWVHhv13",
    "outputId": "a08fafaa-a8ef-472f-b698-fcc2bc709d6f"
   },
   "outputs": [],
   "source": [
    "#plt.figure()\n",
    "#df['PENTE'].value_counts().plot.bar()"
   ]
  },
  {
   "cell_type": "markdown",
   "metadata": {
    "id": "Yhlbi5xohv14"
   },
   "source": [
    "# Quantitative vs Quantitative"
   ]
  },
  {
   "cell_type": "code",
   "execution_count": 14,
   "metadata": {
    "colab": {
     "base_uri": "https://localhost:8080/",
     "height": 184
    },
    "id": "Q76sZdmFhv16",
    "outputId": "58f579d1-6b8b-499f-97b6-a19f2ba8272f"
   },
   "outputs": [],
   "source": [
    "#plt.figure()\n",
    "#plt.scatter(df['AGE'], df['CHOLESTEROL'])"
   ]
  },
  {
   "cell_type": "code",
   "execution_count": 15,
   "metadata": {
    "id": "QFZEW70fhv17"
   },
   "outputs": [],
   "source": [
    "#code_coeur = df['CŒUR'].astype('category').cat.codes\n",
    "#plt.figure()\n",
    "#df.plot.scatter('AGE', 'CHOLESTEROL', c=df['CŒUR'].astype('category').cat.codes)\n"
   ]
  },
  {
   "cell_type": "code",
   "execution_count": 16,
   "metadata": {
    "id": "G9e3nOC6hv17"
   },
   "outputs": [],
   "source": [
    "#code_coeur = df['CŒUR'].astype('category').cat.codes\n",
    "#plt.figure()\n",
    "#df.plot.scatter('PAR', 'DEPRESSION ', c=np.array(['blue','green'])[code_coeur])"
   ]
  },
  {
   "cell_type": "code",
   "execution_count": null,
   "metadata": {
    "id": "kPX9JBczhv18"
   },
   "outputs": [],
   "source": []
  },
  {
   "cell_type": "code",
   "execution_count": null,
   "metadata": {},
   "outputs": [],
   "source": []
  }
 ],
 "metadata": {
  "colab": {
   "provenance": []
  },
  "kernelspec": {
   "display_name": "Python 3 (ipykernel)",
   "language": "python",
   "name": "python3"
  },
  "language_info": {
   "codemirror_mode": {
    "name": "ipython",
    "version": 3
   },
   "file_extension": ".py",
   "mimetype": "text/x-python",
   "name": "python",
   "nbconvert_exporter": "python",
   "pygments_lexer": "ipython3",
   "version": "3.9.7"
  }
 },
 "nbformat": 4,
 "nbformat_minor": 1
}
